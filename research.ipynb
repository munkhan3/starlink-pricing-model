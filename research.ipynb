{
 "cells": [
  {
   "cell_type": "markdown",
   "id": "01ea236c",
   "metadata": {},
   "source": [
    "# Research\n",
    "This notebook was used to research and inform selection of data, models, and other factors relevant to the pricing optimization problem. "
   ]
  },
  {
   "cell_type": "code",
   "execution_count": 5,
   "id": "523fa540",
   "metadata": {},
   "outputs": [],
   "source": [
    "# data analysis packages\n",
    "import pandas as pd\n",
    "import numpy as np\n",
    "import scipy as sp\n",
    "import math\n",
    "import sklearn\n",
    "\n",
    "# visualization packages\n",
    "import seaborn as sns"
   ]
  }
 ],
 "metadata": {
  "kernelspec": {
   "display_name": "starlink-pricing",
   "language": "python",
   "name": "python3"
  },
  "language_info": {
   "codemirror_mode": {
    "name": "ipython",
    "version": 3
   },
   "file_extension": ".py",
   "mimetype": "text/x-python",
   "name": "python",
   "nbconvert_exporter": "python",
   "pygments_lexer": "ipython3",
   "version": "3.11.13"
  }
 },
 "nbformat": 4,
 "nbformat_minor": 5
}
